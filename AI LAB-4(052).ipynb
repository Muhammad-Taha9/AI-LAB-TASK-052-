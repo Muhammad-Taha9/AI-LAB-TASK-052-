{
 "cells": [
  {
   "cell_type": "code",
   "execution_count": 2,
   "id": "2a46c23b-247f-4f83-84e2-882bc9260987",
   "metadata": {},
   "outputs": [
    {
     "name": "stdin",
     "output_type": "stream",
     "text": [
      "Enter card number:  4532015112830366\n"
     ]
    },
    {
     "name": "stdout",
     "output_type": "stream",
     "text": [
      "Card is valid.\n"
     ]
    }
   ],
   "source": [
    "#TASK 1\n",
    "def check_card_valid(card_number):\n",
    "    digits = [int(char) for char in str(card_number)]\n",
    "    \n",
    "    for i in range(len(digits) - 2, -1, -2):\n",
    "        digits[i] *= 2\n",
    "        if digits[i] > 9:\n",
    "            digits[i] = digits[i] - 9\n",
    "    \n",
    "    total = sum(digits)\n",
    "    return total % 10 == 0\n",
    "\n",
    "card_number = input(\"Enter card number: \")\n",
    "if check_card_valid(card_number):\n",
    "    print(\"Card is valid.\")\n",
    "else:\n",
    "    print(\"Card is invalid.\")"
   ]
  },
  {
   "cell_type": "code",
   "execution_count": 3,
   "id": "729e69cd-ae8d-4bd3-99f9-2921d5771dc1",
   "metadata": {},
   "outputs": [
    {
     "name": "stdin",
     "output_type": "stream",
     "text": [
      "Enter text:  I,myself don't wanna go!\n"
     ]
    },
    {
     "name": "stdout",
     "output_type": "stream",
     "text": [
      "Text without punctuation: Imyself dont wanna go\n"
     ]
    }
   ],
   "source": [
    "#TASK 2 \n",
    "import string\n",
    "\n",
    "def clean_string(text):\n",
    "    translator = str.maketrans(\"\", \"\", string.punctuation)\n",
    "    return text.translate(translator)\n",
    "\n",
    "input_text = input(\"Enter text: \")\n",
    "result = clean_string(input_text)\n",
    "print(\"Text without punctuation:\", result)"
   ]
  },
  {
   "cell_type": "code",
   "execution_count": 4,
   "id": "ad812fd7-c611-4e4b-ad4f-14199e1666e8",
   "metadata": {},
   "outputs": [
    {
     "name": "stdin",
     "output_type": "stream",
     "text": [
      "Enter a sentence:  Carpe diem seize the day\n"
     ]
    },
    {
     "name": "stdout",
     "output_type": "stream",
     "text": [
      "Sorted sentence: Carpe day diem seize the\n"
     ]
    }
   ],
   "source": [
    "#TASK 3\n",
    "def sort_words(sentence):\n",
    "    words = sentence.split()\n",
    "    sorted_words = sorted(words, key=lambda word: word.lower())\n",
    "    return \" \".join(sorted_words)\n",
    "\n",
    "input_sentence = input(\"Enter a sentence: \")\n",
    "result = sort_words(input_sentence)\n",
    "print(\"Sorted sentence:\", result)"
   ]
  }
 ],
 "metadata": {
  "kernelspec": {
   "display_name": "Python 3 (ipykernel)",
   "language": "python",
   "name": "python3"
  },
  "language_info": {
   "codemirror_mode": {
    "name": "ipython",
    "version": 3
   },
   "file_extension": ".py",
   "mimetype": "text/x-python",
   "name": "python",
   "nbconvert_exporter": "python",
   "pygments_lexer": "ipython3",
   "version": "3.11.7"
  }
 },
 "nbformat": 4,
 "nbformat_minor": 5
}
