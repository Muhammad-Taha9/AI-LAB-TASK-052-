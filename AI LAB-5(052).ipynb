{
 "cells": [
  {
   "cell_type": "code",
   "execution_count": 1,
   "id": "7c34150c-166b-4661-b100-c14c27342b5f",
   "metadata": {},
   "outputs": [
    {
     "name": "stdout",
     "output_type": "stream",
     "text": [
      "1\n",
      "2\n",
      "4\n",
      "5\n",
      "3\n",
      "6\n"
     ]
    }
   ],
   "source": [
    "#TASK:1\n",
    "class Node:\n",
    "    def __init__(self, value):\n",
    "        self.value = value\n",
    "        self.children = []\n",
    "\n",
    "    def add_child(self, node):\n",
    "        self.children.append(node)\n",
    "\n",
    "def dfs_with_stack(start_node):\n",
    "    stack = [start_node]\n",
    "    visited = set()\n",
    "\n",
    "    while stack:\n",
    "        current_node = stack.pop()\n",
    "        if current_node not in visited:\n",
    "            print(current_node.value)\n",
    "            visited.add(current_node)\n",
    "            for child in reversed(current_node.children):\n",
    "                if child not in visited:\n",
    "                    stack.append(child)\n",
    "\n",
    "if __name__ == \"__main__\":\n",
    "    root = Node(1)\n",
    "    node2 = Node(2)\n",
    "    node3 = Node(3)\n",
    "    node4 = Node(4)\n",
    "    node5 = Node(5)\n",
    "    node6 = Node(6)\n",
    "\n",
    "    root.add_child(node2)\n",
    "    root.add_child(node3)\n",
    "    node2.add_child(node4)\n",
    "    node2.add_child(node5)\n",
    "    node3.add_child(node6)\n",
    "\n",
    "    dfs_with_stack(root)"
   ]
  },
  {
   "cell_type": "code",
   "execution_count": 2,
   "id": "1c1bc848-a189-4b6d-a5d8-8d95a43c3fa5",
   "metadata": {},
   "outputs": [
    {
     "name": "stdout",
     "output_type": "stream",
     "text": [
      "Preorder Traversal:\n",
      "1 2 4 5 3 6 7 \n",
      "Inorder Traversal:\n",
      "4 2 5 1 6 3 7 \n",
      "Postorder Traversal:\n",
      "4 5 2 6 7 3 1 "
     ]
    }
   ],
   "source": [
    "#TASK:2\n",
    "class BinaryNode:\n",
    "    def __init__(self, value):\n",
    "        self.value = value\n",
    "        self.left = None\n",
    "        self.right = None\n",
    "\n",
    "def preorder_traversal(node):\n",
    "    if node:\n",
    "        print(node.value, end=\" \")\n",
    "        preorder_traversal(node.left)\n",
    "        preorder_traversal(node.right)\n",
    "\n",
    "def inorder_traversal(node):\n",
    "    if node:\n",
    "        inorder_traversal(node.left)\n",
    "        print(node.value, end=\" \")\n",
    "        inorder_traversal(node.right)\n",
    "\n",
    "def postorder_traversal(node):\n",
    "    if node:\n",
    "        postorder_traversal(node.left)\n",
    "        postorder_traversal(node.right)\n",
    "        print(node.value, end=\" \")\n",
    "\n",
    "if __name__ == \"__main__\":\n",
    "    root = BinaryNode(1)\n",
    "    root.left = BinaryNode(2)\n",
    "    root.right = BinaryNode(3)\n",
    "    root.left.left = BinaryNode(4)\n",
    "    root.left.right = BinaryNode(5)\n",
    "    root.right.left = BinaryNode(6)\n",
    "    root.right.right = BinaryNode(7)\n",
    "\n",
    "    print(\"Preorder Traversal:\")\n",
    "    preorder_traversal(root)\n",
    "    print(\"\\nInorder Traversal:\")\n",
    "    inorder_traversal(root)\n",
    "    print(\"\\nPostorder Traversal:\")\n",
    "    postorder_traversal(root)"
   ]
  }
 ],
 "metadata": {
  "kernelspec": {
   "display_name": "Python 3 (ipykernel)",
   "language": "python",
   "name": "python3"
  },
  "language_info": {
   "codemirror_mode": {
    "name": "ipython",
    "version": 3
   },
   "file_extension": ".py",
   "mimetype": "text/x-python",
   "name": "python",
   "nbconvert_exporter": "python",
   "pygments_lexer": "ipython3",
   "version": "3.11.7"
  }
 },
 "nbformat": 4,
 "nbformat_minor": 5
}
