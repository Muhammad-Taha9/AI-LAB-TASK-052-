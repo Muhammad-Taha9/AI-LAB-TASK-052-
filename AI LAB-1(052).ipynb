{
 "cells": [
  {
   "cell_type": "code",
   "execution_count": null,
   "id": "0f6ae08b-8b97-4786-8e7c-9306e3b03da2",
   "metadata": {},
   "outputs": [
    {
     "name": "stdout",
     "output_type": "stream",
     "text": [
      "Welcome to the Simple Calculator!\n",
      "Type a math problem (like 1 + 2 * 3) or 'quit' to exit.\n"
     ]
    },
    {
     "name": "stdin",
     "output_type": "stream",
     "text": [
      "\n",
      "Enter a math problem:  1*9*111\n"
     ]
    },
    {
     "name": "stdout",
     "output_type": "stream",
     "text": [
      "Answer: 999\n"
     ]
    },
    {
     "name": "stdin",
     "output_type": "stream",
     "text": [
      "\n",
      "Enter a math problem:  120+17777*4\n"
     ]
    },
    {
     "name": "stdout",
     "output_type": "stream",
     "text": [
      "Answer: 71228\n"
     ]
    }
   ],
   "source": [
    "def calculator():\n",
    "    print(\"Welcome to the Simple Calculator!\")\n",
    "    print(\"Type a math problem (like 1 + 2 * 3) or 'quit' to exit.\")\n",
    "    \n",
    "    while True:\n",
    "        problem = input(\"\\nEnter a math problem: \").strip()\n",
    "        \n",
    "        if problem.lower() == 'quit':\n",
    "            print(\"Goodbye!\")\n",
    "            break\n",
    "        \n",
    "        try:\n",
    "            answer = eval(problem)\n",
    "            print(f\"Answer: {answer}\")\n",
    "        except ZeroDivisionError:\n",
    "            print(\"Error: Can't divide by zero.\")\n",
    "        except:\n",
    "            print(\"Error: Invalid math problem. Try again.\")\n",
    "\n",
    "calculator()"
   ]
  }
 ],
 "metadata": {
  "kernelspec": {
   "display_name": "Python 3 (ipykernel)",
   "language": "python",
   "name": "python3"
  },
  "language_info": {
   "codemirror_mode": {
    "name": "ipython",
    "version": 3
   },
   "file_extension": ".py",
   "mimetype": "text/x-python",
   "name": "python",
   "nbconvert_exporter": "python",
   "pygments_lexer": "ipython3",
   "version": "3.11.7"
  }
 },
 "nbformat": 4,
 "nbformat_minor": 5
}
