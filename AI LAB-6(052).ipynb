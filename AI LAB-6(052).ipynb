{
 "cells": [
  {
   "cell_type": "code",
   "execution_count": 3,
   "id": "69dc62cd-a17d-4b75-beca-d5f3eb800be1",
   "metadata": {},
   "outputs": [
    {
     "name": "stdout",
     "output_type": "stream",
     "text": [
      "1\n",
      "2\n",
      "3\n",
      "4\n",
      "5\n",
      "6\n"
     ]
    }
   ],
   "source": [
    "#TASK:1\n",
    "def bfs_without_queue(graph, start):\n",
    "    visited = set()\n",
    "    current_level = [start]\n",
    "    \n",
    "    while current_level:\n",
    "        next_level = []\n",
    "        for node in current_level:\n",
    "            if node not in visited:\n",
    "                print(node)\n",
    "                visited.add(node)\n",
    "                next_level.extend(graph[node])\n",
    "        current_level = next_level\n",
    "\n",
    "if __name__ == \"__main__\":\n",
    "    graph = {\n",
    "        1: [2, 3],\n",
    "        2: [4, 5],\n",
    "        3: [6],\n",
    "        4: [],\n",
    "        5: [],\n",
    "        6: []\n",
    "    }\n",
    "    bfs_without_queue(graph, 1)"
   ]
  },
  {
   "cell_type": "code",
   "execution_count": 2,
   "id": "a4b01e38-bbd1-43e9-a33d-ed99454bbad7",
   "metadata": {},
   "outputs": [
    {
     "name": "stdout",
     "output_type": "stream",
     "text": [
      "1\n",
      "2\n",
      "3\n",
      "4\n",
      "5\n",
      "6\n"
     ]
    }
   ],
   "source": [
    "#TASK:2\n",
    "from collections import deque\n",
    "\n",
    "class Node:\n",
    "    def __init__(self, value):\n",
    "        self.value = value\n",
    "        self.children = []\n",
    "\n",
    "    def add_child(self, node):\n",
    "        self.children.append(node)\n",
    "\n",
    "def bfs_with_queue(start_node):\n",
    "    queue = deque([start_node])\n",
    "    visited = set()\n",
    "\n",
    "    while queue:\n",
    "        current_node = queue.popleft()\n",
    "        if current_node not in visited:\n",
    "            print(current_node.value)\n",
    "            visited.add(current_node)\n",
    "            for child in current_node.children:\n",
    "                if child not in visited:\n",
    "                    queue.append(child)\n",
    "\n",
    "if __name__ == \"__main__\":\n",
    "    root = Node(1)\n",
    "    node2 = Node(2)\n",
    "    node3 = Node(3)\n",
    "    node4 = Node(4)\n",
    "    node5 = Node(5)\n",
    "    node6 = Node(6)\n",
    "\n",
    "    root.add_child(node2)\n",
    "    root.add_child(node3)\n",
    "    node2.add_child(node4)\n",
    "    node2.add_child(node5)\n",
    "    node3.add_child(node6)\n",
    "\n",
    "    bfs_with_queue(root)"
   ]
  }
 ],
 "metadata": {
  "kernelspec": {
   "display_name": "Python 3 (ipykernel)",
   "language": "python",
   "name": "python3"
  },
  "language_info": {
   "codemirror_mode": {
    "name": "ipython",
    "version": 3
   },
   "file_extension": ".py",
   "mimetype": "text/x-python",
   "name": "python",
   "nbconvert_exporter": "python",
   "pygments_lexer": "ipython3",
   "version": "3.11.7"
  }
 },
 "nbformat": 4,
 "nbformat_minor": 5
}
