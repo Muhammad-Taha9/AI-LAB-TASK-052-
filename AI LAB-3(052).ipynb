{
 "cells": [
  {
   "cell_type": "code",
   "execution_count": 1,
   "id": "a55029b5-0829-471c-9a2b-1ae235c7e540",
   "metadata": {},
   "outputs": [
    {
     "name": "stdout",
     "output_type": "stream",
     "text": [
      "Temperature\tAction\n",
      "-----------------------\n",
      "23°C\t\tNo change\n",
      "27°C\t\tNo change\n",
      "13°C\t\tTurn heater ON\n",
      "26°C\t\tTurn heater OFF\n",
      "33°C\t\tNo change\n",
      "18°C\t\tNo change\n",
      "19°C\t\tNo change\n",
      "24°C\t\tNo change\n"
     ]
    }
   ],
   "source": [
    "class HeaterAgent:\n",
    "    def __init__(self):\n",
    "        self.previous_action = \"off\" \n",
    "\n",
    "    def decide_action(self, temperature):\n",
    "        if temperature < 18 and self.previous_action != \"on\":\n",
    "            self.previous_action = \"on\"\n",
    "            return \"Turn heater ON\"\n",
    "        elif temperature > 22 and self.previous_action != \"off\":\n",
    "            self.previous_action = \"off\"\n",
    "            return \"Turn heater OFF\"\n",
    "        else:\n",
    "            return \"No change\"\n",
    "\n",
    "def simulate_agent():\n",
    "    agent = HeaterAgent()\n",
    "    temperatures = [23, 27, 13, 26, 33, 18, 19, 24]  \n",
    "\n",
    "    print(\"Temperature\\tAction\")\n",
    "    print(\"-----------------------\")\n",
    "    for temp in temperatures:\n",
    "        action = agent.decide_action(temp)\n",
    "        print(f\"{temp}°C\\t\\t{action}\")\n",
    "\n",
    "simulate_agent()"
   ]
  }
 ],
 "metadata": {
  "kernelspec": {
   "display_name": "Python 3 (ipykernel)",
   "language": "python",
   "name": "python3"
  },
  "language_info": {
   "codemirror_mode": {
    "name": "ipython",
    "version": 3
   },
   "file_extension": ".py",
   "mimetype": "text/x-python",
   "name": "python",
   "nbconvert_exporter": "python",
   "pygments_lexer": "ipython3",
   "version": "3.11.7"
  }
 },
 "nbformat": 4,
 "nbformat_minor": 5
}
